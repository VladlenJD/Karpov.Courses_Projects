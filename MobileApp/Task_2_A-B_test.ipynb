{
 "cells": [
  {
   "cell_type": "code",
   "execution_count": null,
   "metadata": {},
   "outputs": [],
   "source": [
    "                                        #########################################\n",
    "                                        #########################################\n",
    "\n",
    "                                                        A/B-test\n",
    "\n",
    "                                        #########################################\n",
    "                                        #########################################"
   ]
  },
  {
   "cell_type": "code",
   "execution_count": 1,
   "metadata": {},
   "outputs": [],
   "source": [
    "import pandas as pd\n",
    "import numpy as np\n",
    "import seaborn as sns\n",
    "import matplotlib.pyplot as plt\n",
    "from tqdm.auto import tqdm\n",
    "from scipy import stats\n",
    "from scipy.stats import norm\n",
    "import statsmodels.api as sm\n",
    "%matplotlib inline"
   ]
  },
  {
   "cell_type": "code",
   "execution_count": 2,
   "metadata": {},
   "outputs": [],
   "source": [
    "plt.style.use('ggplot')                       # Красивые графики\n",
    "plt.rcParams['figure.figsize'] = (16, 9)"
   ]
  },
  {
   "cell_type": "code",
   "execution_count": 3,
   "metadata": {},
   "outputs": [
    {
     "data": {
      "text/html": [
       "<div>\n",
       "<style scoped>\n",
       "    .dataframe tbody tr th:only-of-type {\n",
       "        vertical-align: middle;\n",
       "    }\n",
       "\n",
       "    .dataframe tbody tr th {\n",
       "        vertical-align: top;\n",
       "    }\n",
       "\n",
       "    .dataframe thead th {\n",
       "        text-align: right;\n",
       "    }\n",
       "</style>\n",
       "<table border=\"1\" class=\"dataframe\">\n",
       "  <thead>\n",
       "    <tr style=\"text-align: right;\">\n",
       "      <th></th>\n",
       "      <th>user_id</th>\n",
       "      <th>revenue</th>\n",
       "      <th>testgroup</th>\n",
       "    </tr>\n",
       "  </thead>\n",
       "  <tbody>\n",
       "    <tr>\n",
       "      <th>0</th>\n",
       "      <td>1</td>\n",
       "      <td>0</td>\n",
       "      <td>b</td>\n",
       "    </tr>\n",
       "    <tr>\n",
       "      <th>1</th>\n",
       "      <td>2</td>\n",
       "      <td>0</td>\n",
       "      <td>a</td>\n",
       "    </tr>\n",
       "    <tr>\n",
       "      <th>2</th>\n",
       "      <td>3</td>\n",
       "      <td>0</td>\n",
       "      <td>a</td>\n",
       "    </tr>\n",
       "    <tr>\n",
       "      <th>3</th>\n",
       "      <td>4</td>\n",
       "      <td>0</td>\n",
       "      <td>b</td>\n",
       "    </tr>\n",
       "    <tr>\n",
       "      <th>4</th>\n",
       "      <td>5</td>\n",
       "      <td>0</td>\n",
       "      <td>b</td>\n",
       "    </tr>\n",
       "    <tr>\n",
       "      <th>...</th>\n",
       "      <td>...</td>\n",
       "      <td>...</td>\n",
       "      <td>...</td>\n",
       "    </tr>\n",
       "    <tr>\n",
       "      <th>404765</th>\n",
       "      <td>404766</td>\n",
       "      <td>0</td>\n",
       "      <td>a</td>\n",
       "    </tr>\n",
       "    <tr>\n",
       "      <th>404766</th>\n",
       "      <td>404767</td>\n",
       "      <td>0</td>\n",
       "      <td>b</td>\n",
       "    </tr>\n",
       "    <tr>\n",
       "      <th>404767</th>\n",
       "      <td>404768</td>\n",
       "      <td>231</td>\n",
       "      <td>a</td>\n",
       "    </tr>\n",
       "    <tr>\n",
       "      <th>404768</th>\n",
       "      <td>404769</td>\n",
       "      <td>0</td>\n",
       "      <td>a</td>\n",
       "    </tr>\n",
       "    <tr>\n",
       "      <th>404769</th>\n",
       "      <td>404770</td>\n",
       "      <td>0</td>\n",
       "      <td>b</td>\n",
       "    </tr>\n",
       "  </tbody>\n",
       "</table>\n",
       "<p>404770 rows × 3 columns</p>\n",
       "</div>"
      ],
      "text/plain": [
       "        user_id  revenue testgroup\n",
       "0             1        0         b\n",
       "1             2        0         a\n",
       "2             3        0         a\n",
       "3             4        0         b\n",
       "4             5        0         b\n",
       "...         ...      ...       ...\n",
       "404765   404766        0         a\n",
       "404766   404767        0         b\n",
       "404767   404768      231         a\n",
       "404768   404769        0         a\n",
       "404769   404770        0         b\n",
       "\n",
       "[404770 rows x 3 columns]"
      ]
     },
     "execution_count": 3,
     "metadata": {},
     "output_type": "execute_result"
    }
   ],
   "source": [
    "#  Загрузим и посмотрим на данные.\n",
    "\n",
    "df = pd.read_csv('https://stepik.org/media/attachments/lesson/409318/problem2.csv', sep=';')\n",
    "df"
   ]
  },
  {
   "cell_type": "code",
   "execution_count": null,
   "metadata": {},
   "outputs": [],
   "source": [
    "\n",
    "Посмотрим, что известно и что требуется:\n",
    "\n",
    "В контрольной группе (а) 1928 платящих из 202103.\n",
    "В тестовой группе (b) 1805 платящих из 202667.\n",
    "Известно, что ARPU в тестовой группе выше на 5%, чем в контрольной.\n",
    "\n",
    "\n",
    "Какой набор предложений можно считать лучшим? \n",
    "Какие метрики стоит проанализировать для принятия правильного решения и как?\n"
   ]
  },
  {
   "cell_type": "code",
   "execution_count": null,
   "metadata": {},
   "outputs": [],
   "source": [
    "\n",
    "Проверим, статичтически значимо или нет преимущество ARPU тестовой\n",
    "группы над ARPU контрольной группы.\n",
    "\n",
    "Но для начала проверим сплитовалку, стоит ли верить нашему A/B-тесту?\n",
    "Проведём A/A-тест.\n"
   ]
  },
  {
   "cell_type": "code",
   "execution_count": 4,
   "metadata": {
    "scrolled": false
   },
   "outputs": [
    {
     "data": {
      "application/vnd.jupyter.widget-view+json": {
       "model_id": "f66289e1011e4fefa768a07858cfe5c6",
       "version_major": 2,
       "version_minor": 0
      },
      "text/plain": [
       "HBox(children=(FloatProgress(value=0.0, max=1000.0), HTML(value='')))"
      ]
     },
     "metadata": {},
     "output_type": "display_data"
    },
    {
     "name": "stdout",
     "output_type": "stream",
     "text": [
      "\n"
     ]
    },
    {
     "data": {
      "image/png": "[encoded data removed]",
      "text/plain": [
       "<Figure size 1152x648 with 1 Axes>"
      ]
     },
     "metadata": {},
     "output_type": "display_data"
    },
    {
     "data": {
      "text/plain": [
       "0.472"
      ]
     },
     "execution_count": 4,
     "metadata": {},
     "output_type": "execute_result"
    }
   ],
   "source": [
    "n = 100000\n",
    "simulations = 1000\n",
    "n_s = 1000\n",
    "res = []\n",
    "\n",
    "# Запуск симуляций A/A теста\n",
    "for i in tqdm(range(simulations)):\n",
    "    s1 = df[df.testgroup == \"a\"]['revenue'].sample(n_s, replace = False).values\n",
    "    s2 = df[df.testgroup == \"b\"]['revenue'].sample(n_s, replace = False).values\n",
    "    res.append(stats.ttest_ind(s1, s2, equal_var = False)[1]) # сохраняем pvalue\n",
    "\n",
    "plt.hist(res, bins = 50)\n",
    "plt.style.use('ggplot')\n",
    "plt.xlabel('pvalues')\n",
    "plt.ylabel('frequency')\n",
    "plt.title(\"Histogram of ttest A/A simulations \")\n",
    "plt.show()\n",
    "\n",
    "# Проверяем, что количество ложноположительных случаев не превышает альфа\n",
    "sum(np.array(res) <0.05) / simulations"
   ]
  },
  {
   "cell_type": "code",
   "execution_count": null,
   "metadata": {},
   "outputs": [],
   "source": [
    "\n",
    "Похоже, наша сплит-система работает неверно. Но ведь наши продакты, \n",
    "которые проводили A/B-тест, вряд ли ошиблись. А может дело в данных? Посмотрим.\n"
   ]
  },
  {
   "cell_type": "code",
   "execution_count": 5,
   "metadata": {
    "scrolled": false
   },
   "outputs": [
    {
     "data": {
      "image/png": "[encoded data removed]",
      "text/plain": [
       "<Figure size 1152x648 with 2 Axes>"
      ]
     },
     "metadata": {},
     "output_type": "display_data"
    }
   ],
   "source": [
    "\n",
    "#  Построим распределения платящих пользователей для контрольной и тестовой групп.\n",
    "\n",
    "\n",
    "plt.subplot(1, 2, 1)\n",
    "df.query('testgroup == \"a\" and revenue > 0')['revenue'].hist(color='blue')\n",
    "plt.xlabel('Control')\n",
    "\n",
    "plt.subplot(1, 2, 2)\n",
    "df.query('testgroup == \"b\" and revenue > 0')['revenue'].hist()\n",
    "plt.xlabel('Test')\n",
    "\n",
    "sns.despine()"
   ]
  },
  {
   "cell_type": "code",
   "execution_count": null,
   "metadata": {},
   "outputs": [],
   "source": [
    "\n",
    "Выбросы в контрольной группе. Интересно, откуда они взялись... В любом случае, исключить мы их не можем, потому что не знаем \n",
    "природы возникновения. Значит для оценки нужен критерий, устойчивый к выбросам: обратимся к U-критерию Манна-Уитни.\n",
    "    "
   ]
  },
  {
   "cell_type": "code",
   "execution_count": 6,
   "metadata": {},
   "outputs": [
    {
     "name": "stdout",
     "output_type": "stream",
     "text": [
      "pvalue = 0.03\n"
     ]
    }
   ],
   "source": [
    "\n",
    "#  Проведём тест и посмотрим на p-уровень значимости.\n",
    "\n",
    "\n",
    "statistic, pvalue = stats.mannwhitneyu(df.query('testgroup == \"a\"').revenue, df.query('testgroup == \"b\"').revenue)\n",
    "print('pvalue =', pvalue.round(2))"
   ]
  },
  {
   "cell_type": "code",
   "execution_count": 7,
   "metadata": {},
   "outputs": [
    {
     "name": "stdout",
     "output_type": "stream",
     "text": [
      "ARPU_control = 25.41\n",
      "ARPU_test = 26.75\n",
      "ARPU_test > ARPU_control на 5.01%\n"
     ]
    }
   ],
   "source": [
    "\n",
    "#  Посчитаем ARPU для контрольной и тестовой групп.\n",
    "\n",
    "\n",
    "ARPU_control = df.query('testgroup == \"a\"').revenue.mean().round(2)\n",
    "ARPU_test = df.query('testgroup == \"b\"').revenue.mean().round(2)\n",
    "\n",
    "print('ARPU_control =',ARPU_control)\n",
    "print('ARPU_test =',ARPU_test)\n",
    "print(f'ARPU_test > ARPU_control на {round((ARPU_test-ARPU_control)/ARPU_test*100, 2)}%')"
   ]
  },
  {
   "cell_type": "code",
   "execution_count": null,
   "metadata": {},
   "outputs": [],
   "source": [
    "\n",
    "Итак, с помощью U-критерия Манна-Уитни удалось определить: ARPU тестовой группы статистически значимо выше, \n",
    "чем ARPU контрольной группы на 5.01%.\n",
    "Но pvalue = 0.03... Это конечно хорошо, если α = 0.05. Но нам очень не хочется совершить ошибку первого рода, приняв \n",
    "альтернативную гипотезу, и отклонив при этом верную - нулевую. Поэтому, если мы примем α = 0.01 для большей уверенности,\n",
    "то поводов для отклонения нулевой гипотезы уже не будет.\n"
   ]
  },
  {
   "cell_type": "code",
   "execution_count": null,
   "metadata": {},
   "outputs": [],
   "source": [
    "\n",
    "Чтобы подстраховаться, обратимся к \"универсальному инструменту\", результаты которого потенциально более точны: Bootstrap.  \n"
   ]
  },
  {
   "cell_type": "code",
   "execution_count": 8,
   "metadata": {},
   "outputs": [],
   "source": [
    "sample_1 = df.query('testgroup == \"a\"').revenue\n",
    "sample_2 = df.query('testgroup == \"b\"').revenue\n",
    "\n",
    "df2 = pd.DataFrame({\n",
    "    \"sample_1\": sample_1,\n",
    "    \"sample_2\": sample_2\n",
    "})\n",
    "\n",
    "df2 = df2.fillna(0)"
   ]
  },
  {
   "cell_type": "code",
   "execution_count": 13,
   "metadata": {},
   "outputs": [],
   "source": [
    "#  Помним о выбросах, поэтому используем в качестве меры центральной тенденции медиану.\n",
    "\n",
    "def get_bootstrap(\n",
    "    data_column_1, # числовые значения первой выборки\n",
    "    data_column_2, # числовые значения второй выборки\n",
    "    boot_it = 1000, # количество бутстрэп-подвыборок\n",
    "    statistic = np.median, # интересующая нас статистика\n",
    "    bootstrap_conf_level = 0.99 # зададим уровень в соответствии с нашей новой α = 0.01.\n",
    "):\n",
    "    boot_len = max([len(data_column_1), len(data_column_2)])\n",
    "    boot_data = []\n",
    "    for i in tqdm(range(boot_it)): # извлекаем подвыборки\n",
    "        samples_1 = data_column_1.sample(\n",
    "            boot_len, \n",
    "            replace = True # параметр возвращения\n",
    "        ).values\n",
    "        \n",
    "        samples_2 = data_column_2.sample(\n",
    "            boot_len, \n",
    "            replace = True\n",
    "        ).values\n",
    "        \n",
    "        boot_data.append(statistic(samples_1-samples_2)) # median() - применяем статистику\n",
    "        \n",
    "    pd_boot_data = pd.DataFrame(boot_data)\n",
    "        \n",
    "    left_quant = (1 - bootstrap_conf_level)/2\n",
    "    right_quant = 1 - (1 - bootstrap_conf_level) / 2\n",
    "    quants = pd_boot_data.quantile([left_quant, right_quant])\n",
    "        \n",
    "    p_1 = norm.cdf(\n",
    "        x = 0, \n",
    "        loc = np.mean(boot_data), \n",
    "        scale = np.std(boot_data)\n",
    "    )\n",
    "    p_2 = norm.cdf(\n",
    "        x = 0, \n",
    "        loc = -np.mean(boot_data), \n",
    "        scale = np.std(boot_data)\n",
    "    )\n",
    "    p_value = min(p_1, p_2) * 2\n",
    "        \n",
    "    # Визуализация\n",
    "    _, _, bars = plt.hist(pd_boot_data[0], bins = 50)\n",
    "    for bar in bars:\n",
    "        if abs(bar.get_x()) <= quants.iloc[0][0] or abs(bar.get_x()) >= quants.iloc[1][0]:\n",
    "            bar.set_facecolor('red')\n",
    "        else: \n",
    "            bar.set_facecolor('grey')\n",
    "            bar.set_edgecolor('black')\n",
    "    \n",
    "    plt.style.use('ggplot')\n",
    "    plt.vlines(quants,ymin=0,ymax=50,linestyle='--')\n",
    "    plt.xlabel('boot_data')\n",
    "    plt.ylabel('frequency')\n",
    "    plt.title(\"Histogram of boot_data\")\n",
    "    plt.show()\n",
    "       \n",
    "    return {\"boot_data\": boot_data, \n",
    "            \"quants\": quants, \n",
    "            \"p_value\": p_value}"
   ]
  },
  {
   "cell_type": "code",
   "execution_count": 14,
   "metadata": {},
   "outputs": [
    {
     "data": {
      "application/vnd.jupyter.widget-view+json": {
       "model_id": "c53ba0e582354024ab98f5aa186d277f",
       "version_major": 2,
       "version_minor": 0
      },
      "text/plain": [
       "HBox(children=(FloatProgress(value=0.0, max=1000.0), HTML(value='')))"
      ]
     },
     "metadata": {},
     "output_type": "display_data"
    },
    {
     "name": "stdout",
     "output_type": "stream",
     "text": [
      "\n"
     ]
    },
    {
     "data": {
      "image/png": "[encoded data removed]",
      "text/plain": [
       "<Figure size 1152x648 with 1 Axes>"
      ]
     },
     "metadata": {},
     "output_type": "display_data"
    }
   ],
   "source": [
    "booted_data_median = get_bootstrap(df2.query('sample_1 != 0').sample_1, df2.query('sample_2 != 0').sample_2)"
   ]
  },
  {
   "cell_type": "code",
   "execution_count": 15,
   "metadata": {},
   "outputs": [
    {
     "data": {
      "text/html": [
       "<div>\n",
       "<style scoped>\n",
       "    .dataframe tbody tr th:only-of-type {\n",
       "        vertical-align: middle;\n",
       "    }\n",
       "\n",
       "    .dataframe tbody tr th {\n",
       "        vertical-align: top;\n",
       "    }\n",
       "\n",
       "    .dataframe thead th {\n",
       "        text-align: right;\n",
       "    }\n",
       "</style>\n",
       "<table border=\"1\" class=\"dataframe\">\n",
       "  <thead>\n",
       "    <tr style=\"text-align: right;\">\n",
       "      <th></th>\n",
       "      <th>0</th>\n",
       "    </tr>\n",
       "  </thead>\n",
       "  <tbody>\n",
       "    <tr>\n",
       "      <th>0.005</th>\n",
       "      <td>-2713.0175</td>\n",
       "    </tr>\n",
       "    <tr>\n",
       "      <th>0.995</th>\n",
       "      <td>-2583.9800</td>\n",
       "    </tr>\n",
       "  </tbody>\n",
       "</table>\n",
       "</div>"
      ],
      "text/plain": [
       "               0\n",
       "0.005 -2713.0175\n",
       "0.995 -2583.9800"
      ]
     },
     "execution_count": 15,
     "metadata": {},
     "output_type": "execute_result"
    }
   ],
   "source": [
    "booted_data_median['quants']"
   ]
  },
  {
   "cell_type": "code",
   "execution_count": 16,
   "metadata": {},
   "outputs": [
    {
     "data": {
      "text/plain": [
       "0.0"
      ]
     },
     "execution_count": 16,
     "metadata": {},
     "output_type": "execute_result"
    }
   ],
   "source": [
    "booted_data_median['p_value']"
   ]
  },
  {
   "cell_type": "code",
   "execution_count": null,
   "metadata": {},
   "outputs": [],
   "source": [
    "\n",
    "Видим, что доверительный интервал вышел за 0, а p_value = 0.0.\n",
    "\n",
    "Вот так уже лучше, теперь с определённой уверенностью мы можем сказать, что \n",
    "в тестовой группе статистически значимо увеличился ARPU по отношению к контрольной группе.\n",
    "\n",
    "Но мы также не могли не заметить, что в тестовой группе, которая сама по себе немного больше, \n",
    "чем контрольная, платящих пользователей стало меньше, чем в контрольной. Нужно проверить, имеет ли\n",
    "такое снижение платящих пользователей статистическую значимость.\n"
   ]
  },
  {
   "cell_type": "code",
   "execution_count": 17,
   "metadata": {},
   "outputs": [],
   "source": [
    "# Воспользуемся А/В тестом для пропорций.\n",
    "\n",
    "# В контрольной группе (а) 1928 платящих из 202103.\n",
    "\n",
    "# В тестовой группе (b) 1805 платящих из 202667.\n",
    "\n",
    "\n",
    "s1 = 1928\n",
    "n1 = 202103\n",
    "s2 = 1805\n",
    "n2 = 202667"
   ]
  },
  {
   "cell_type": "code",
   "execution_count": 18,
   "metadata": {},
   "outputs": [
    {
     "name": "stdout",
     "output_type": "stream",
     "text": [
      "p_value = 0.035028524642854865\n"
     ]
    }
   ],
   "source": [
    "# Проведём сам тест:\n",
    "\n",
    "z, p_value = sm.stats.proportions_ztest([s1, s2], [n1, n2])\n",
    "\n",
    "print('p_value =', p_value)\n"
   ]
  },
  {
   "cell_type": "code",
   "execution_count": null,
   "metadata": {},
   "outputs": [],
   "source": [
    "\n",
    "И что мы видим: p_value < 0.05. Значит количество платящих пользователей\n",
    "статистически значимо уменьшилось(по крайней мере если опираться на α = 0.05). \n",
    "Это для нас нехорошо.\n",
    "\n",
    "Но мы помним про выбросы. А что если если был сбой системы, и все наши \"VIP-плательщики\"\n",
    "на самом деле не заплатили ничего. Тогда тест покажет другой результат.\n"
   ]
  },
  {
   "cell_type": "code",
   "execution_count": 19,
   "metadata": {},
   "outputs": [],
   "source": [
    "s3 = 1805\n",
    "n3 = 202103\n",
    "s4 = 1805\n",
    "n4 = 202667"
   ]
  },
  {
   "cell_type": "code",
   "execution_count": 20,
   "metadata": {},
   "outputs": [
    {
     "name": "stdout",
     "output_type": "stream",
     "text": [
      "p_value = 0.9329809027702953\n"
     ]
    }
   ],
   "source": [
    "z2, p_value2 = sm.stats.proportions_ztest([s3, s4], [n3, n4])\n",
    "print('p_value =', p_value2)"
   ]
  },
  {
   "cell_type": "code",
   "execution_count": null,
   "metadata": {},
   "outputs": [],
   "source": [
    "\n",
    "Всё упирается в выбросы.\n"
   ]
  },
  {
   "cell_type": "code",
   "execution_count": 21,
   "metadata": {
    "scrolled": false
   },
   "outputs": [
    {
     "data": {
      "image/png": "[encoded data removed]",
      "text/plain": [
       "<Figure size 1152x648 with 2 Axes>"
      ]
     },
     "metadata": {},
     "output_type": "display_data"
    }
   ],
   "source": [
    "\n",
    "#  Построим распределения платящих пользователей для контрольной и тестовой групп, но теперь без учёта выбросов.\n",
    "\n",
    "\n",
    "plt.subplot(1, 2, 1)\n",
    "df.query('testgroup == \"a\" and 0 < revenue < 5000')['revenue'].hist(color='blue')\n",
    "plt.xlabel('Control')\n",
    "\n",
    "plt.subplot(1, 2, 2)\n",
    "df.query('testgroup == \"b\" and revenue > 0')['revenue'].hist()\n",
    "plt.xlabel('Test')\n",
    "\n",
    "sns.despine()"
   ]
  },
  {
   "cell_type": "code",
   "execution_count": null,
   "metadata": {},
   "outputs": [],
   "source": [
    "\n",
    "По графикам видно, что, если не принимать во внимание выбросы в контрольной группе, то\n",
    "размах Revenue в контрольной группе 200 - 400, а в тестовой 2000 - 4000. Разница очевидна. Посчитаем точно.\n"
   ]
  },
  {
   "cell_type": "code",
   "execution_count": 30,
   "metadata": {
    "scrolled": true
   },
   "outputs": [
    {
     "name": "stdout",
     "output_type": "stream",
     "text": [
      "ARPPU_control = 302.46\n",
      "ARPPU_test = 3003.66\n"
     ]
    }
   ],
   "source": [
    "\n",
    "#  ARPPU контрольной группы без выбросов и ARPPU тестовой группы.\n",
    "\n",
    "\n",
    "ARPPU_control = df.query('testgroup == \"a\" and 0 < revenue < 30000').revenue.mean().round(2)\n",
    "ARPPU_test = df.query('testgroup == \"b\" and revenue > 0').revenue.mean().round(2)\n",
    "\n",
    "print('ARPPU_control =', ARPPU_control)\n",
    "print('ARPPU_test =', ARPPU_test)\n",
    "\n",
    "\n",
    "#  Тут видим десятикратное превосходство ARPPU тестовой группы"
   ]
  },
  {
   "cell_type": "code",
   "execution_count": 22,
   "metadata": {},
   "outputs": [
    {
     "data": {
      "text/plain": [
       "count      123.000000\n",
       "mean     37319.121951\n",
       "std         25.442183\n",
       "min      37293.000000\n",
       "25%      37301.000000\n",
       "50%      37311.000000\n",
       "75%      37329.000000\n",
       "max      37433.000000\n",
       "Name: revenue, dtype: float64"
      ]
     },
     "execution_count": 22,
     "metadata": {},
     "output_type": "execute_result"
    }
   ],
   "source": [
    "\n",
    "#  Посмотрим на характеристики наших \"VIP-пользователей\"\n",
    "\n",
    "\n",
    "df.query('testgroup == \"a\" and revenue > 5000').revenue.describe()\n",
    "\n",
    "#  Всего 123 пользователя и подозрительно маленькое стандартное отклонение."
   ]
  },
  {
   "cell_type": "code",
   "execution_count": null,
   "metadata": {},
   "outputs": [],
   "source": [
    "\n",
    "\n",
    "Выводы:\n",
    "    \n",
    "    1) Проанализировав данные, мы установили, что ARPU в тестовой группе статистически значимо увеличилось\n",
    "    на 5% по сравнению с контрольной группой.\n",
    "    \n",
    "    2) Также мы увидели выбросы в контрольной группе, которые говорят либо о поломке в системе сплитования,\n",
    "    либо о наличии в ней группы пользователей, которым настолько нравится наше приложение в том виде, в котором оно\n",
    "    есть, что они всё покупают и покупают самые дорогие саженцы и лейки 99 уровня, каждая из которых может полить за\n",
    "    один раз до 1Га их любимого сада:)(это, конечно, маловероятно - выбросы слишком уж велики и мало отличаются между собой).\n",
    "    \n",
    "    3) Если проблемы с системой сплитования, нужно их решать, затем снова проводить тесты.\n",
    "    \n",
    "    4) В остальных случаях, если поломки нет(выбросы - реальные пользователи; баг программы, записавший в \"VIP-пользователи\" \n",
    "    тех, кто на самом деле ничего не заплатил), то мы принимаем изменения с одной лишь разницей: если \"VIP-пользователи\"\n",
    "    реальны, то на них изменения пока не раскатываем(по ним лучше отдельно провести свой А/В-тест и посмотреть, \n",
    "    нравится им или нет), если же баг, и вместо больших сумм - нули, то просто раскатываем на всех.\n",
    "\n",
    "\n"
   ]
  },
  {
   "cell_type": "code",
   "execution_count": null,
   "metadata": {},
   "outputs": [],
   "source": []
  }
 ],
 "metadata": {
  "kernelspec": {
   "display_name": "Python 3",
   "language": "python",
   "name": "python3"
  },
  "language_info": {
   "codemirror_mode": {
    "name": "ipython",
    "version": 3
   },
   "file_extension": ".py",
   "mimetype": "text/x-python",
   "name": "python",
   "nbconvert_exporter": "python",
   "pygments_lexer": "ipython3",
   "version": "3.7.3"
  }
 },
 "nbformat": 4,
 "nbformat_minor": 4
}
